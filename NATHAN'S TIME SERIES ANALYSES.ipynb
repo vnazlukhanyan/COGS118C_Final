{
 "cells": [
  {
   "cell_type": "code",
   "execution_count": 1,
   "metadata": {},
   "outputs": [
    {
     "ename": "NameError",
     "evalue": "name 'fs' is not defined",
     "output_type": "error",
     "traceback": [
      "\u001b[0;31m---------------------------------------------------------------------------\u001b[0m",
      "\u001b[0;31mNameError\u001b[0m                                 Traceback (most recent call last)",
      "\u001b[0;32m<ipython-input-1-64ae30655a27>\u001b[0m in \u001b[0;36m<module>\u001b[0;34m\u001b[0m\n\u001b[0;32m----> 1\u001b[0;31m \u001b[0mdt\u001b[0m \u001b[0;34m=\u001b[0m \u001b[0;36m1\u001b[0m \u001b[0;34m/\u001b[0m \u001b[0mfs\u001b[0m\u001b[0;34m\u001b[0m\u001b[0;34m\u001b[0m\u001b[0m\n\u001b[0m\u001b[1;32m      2\u001b[0m \u001b[0mT_exp\u001b[0m \u001b[0;34m=\u001b[0m \u001b[0mlen\u001b[0m\u001b[0;34m(\u001b[0m\u001b[0meyesopen_cingulate\u001b[0m\u001b[0;34m)\u001b[0m \u001b[0;34m/\u001b[0m \u001b[0mfs\u001b[0m\u001b[0;34m\u001b[0m\u001b[0;34m\u001b[0m\u001b[0m\n\u001b[1;32m      3\u001b[0m \u001b[0mt_data\u001b[0m \u001b[0;34m=\u001b[0m \u001b[0mnp\u001b[0m\u001b[0;34m.\u001b[0m\u001b[0marange\u001b[0m\u001b[0;34m(\u001b[0m\u001b[0;36m0\u001b[0m\u001b[0;34m,\u001b[0m \u001b[0mT_exp\u001b[0m\u001b[0;34m,\u001b[0m \u001b[0mdt\u001b[0m\u001b[0;34m)\u001b[0m\u001b[0;34m\u001b[0m\u001b[0;34m\u001b[0m\u001b[0m\n",
      "\u001b[0;31mNameError\u001b[0m: name 'fs' is not defined"
     ]
    }
   ],
   "source": [
    "dt = 1 / fs\n",
    "T_exp = len(eyesopen_cingulate) / fs\n",
    "t_data = np.arange(0, T_exp, dt)"
   ]
  },
  {
   "cell_type": "code",
   "execution_count": 2,
   "metadata": {},
   "outputs": [],
   "source": [
    "def plot_time_series(data1, label1, data2, label2, title, data3=None, label3=None):\n",
    "    plt.figure(figsize=(15,3))\n",
    "    plt.plot(t_data, data1, label=label1, c='darkmagenta')\n",
    "    plt.plot(t_data, data2, label=label2, c='steelblue')\n",
    "    if data3 != None:\n",
    "        plt.plot(t_data, data3, label=label3, c='mediumseagreen')\n",
    "    plt.legend()\n",
    "    plt.xlabel('Time (s)')\n",
    "    plt.ylabel('Voltage (uV)')\n",
    "    plt.xlim([0,5])\n",
    "    plt.ylim([-2000, 2000])\n",
    "    plt.title(title + \" Time Series\")"
   ]
  },
  {
   "cell_type": "code",
   "execution_count": null,
   "metadata": {},
   "outputs": [],
   "source": [
    "plot_time_series(eyesopen_cingulate, 'Eyes Open', anes_cingulate, 'Anesthesia', 'Cingulate')\n",
    "plot_time_series(eyesopen_temporal, 'Eyes Open', anes_temporal, 'Anesthesia', 'Temporal')\n",
    "plot_time_series(eyesopen_occipital, 'Eyes Open', anes_occipital, 'Anesthesia', 'Occipital')\n",
    "plot_time_series(eyesopen_cingulate, 'Cingulate', eyesopen_temporal, 'Temporal', 'Eyes Open', eyesopen_occipital, 'Occipital')\n",
    "plot_time_series(anes_cingulate, 'Cingulate', anes_temporal, 'Temporal', 'Anesthesia', anes_occipital, 'Occipital')"
   ]
  }
 ],
 "metadata": {
  "kernelspec": {
   "display_name": "Python 3",
   "language": "python",
   "name": "python3"
  },
  "language_info": {
   "codemirror_mode": {
    "name": "ipython",
    "version": 3
   },
   "file_extension": ".py",
   "mimetype": "text/x-python",
   "name": "python",
   "nbconvert_exporter": "python",
   "pygments_lexer": "ipython3",
   "version": "3.6.8"
  }
 },
 "nbformat": 4,
 "nbformat_minor": 2
}
